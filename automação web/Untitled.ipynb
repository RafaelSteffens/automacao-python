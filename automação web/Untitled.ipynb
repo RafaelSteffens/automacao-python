{
 "cells": [
  {
   "cell_type": "code",
   "execution_count": 3,
   "id": "1308b418",
   "metadata": {},
   "outputs": [
    {
     "name": "stdout",
     "output_type": "stream",
     "text": [
      "None\n"
     ]
    }
   ],
   "source": [
    "from selenium import webdriver\n",
    "from selenium.webdriver.common.keys import Keys\n",
    "from selenium.webdriver.common.by import By\n",
    "#abrindo pagina do google\n",
    "navegador = webdriver.Chrome()\n",
    "navegador.get ('https://statusinvest.com.br/acoes/petr4')\n",
    "#pesquisando 'cotação dolar' e dando enter\n",
    "#navegador.find_element(By.XPATH, '/html/body/div[1]/div[3]/form/div[1]/div[1]/div[1]/div/div[2]/input').send_keys('cotação dólar')\n",
    "#navegador.find_element(By.XPATH, '/html/body/div[1]/div[3]/form/div[1]/div[1]/div[1]/div/div[2]/input').send_keys(Keys.ENTER)\n",
    "#armazenando o valor na variavel\n",
    "cotacao_petr4 = navegador.find_element(By.XPATH,'/html/body/main/div[2]/div/div[1]/div/div[1]/div/div[1]/strong').get_attribute('value')\n",
    "print(cotacao_petr4)"
   ]
  },
  {
   "cell_type": "code",
   "execution_count": null,
   "id": "1d95e552",
   "metadata": {},
   "outputs": [],
   "source": []
  }
 ],
 "metadata": {
  "kernelspec": {
   "display_name": "Python 3 (ipykernel)",
   "language": "python",
   "name": "python3"
  },
  "language_info": {
   "codemirror_mode": {
    "name": "ipython",
    "version": 3
   },
   "file_extension": ".py",
   "mimetype": "text/x-python",
   "name": "python",
   "nbconvert_exporter": "python",
   "pygments_lexer": "ipython3",
   "version": "3.9.12"
  }
 },
 "nbformat": 4,
 "nbformat_minor": 5
}
