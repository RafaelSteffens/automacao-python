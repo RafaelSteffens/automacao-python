{
 "cells": [
  {
   "cell_type": "code",
   "execution_count": 11,
   "id": "f1769471",
   "metadata": {},
   "outputs": [],
   "source": [
    "import pyautogui as pg\n",
    "import time\n",
    "import pyperclip\n",
    "\n",
    "pg.PAUSE =1\n",
    "pg.hotkey('ctrl', 't')\n",
    "\n",
    "link = 'https://tinder.com/app/recs'\n",
    "pyperclip.copy(link)\n",
    "pg.hotkey('ctrl','v')\n",
    "pg.press('enter')\n",
    "time.sleep(10)\n",
    "\n",
    "\n",
    "pg.click(x=933, y=547)\n",
    "time.sleep(5)\n",
    "pg.click(x=933, y=547)\n",
    "time.sleep(5)\n",
    "pg.click(x=933, y=547)\n",
    "time.sleep(5)\n",
    "pg.click(x=933, y=547)\n",
    "time.sleep(5)\n",
    "pg.click(x=933, y=547)\n",
    "time.sleep(5)"
   ]
  },
  {
   "cell_type": "code",
   "execution_count": 10,
   "id": "6d61cd88",
   "metadata": {},
   "outputs": [
    {
     "data": {
      "text/plain": [
       "Point(x=358, y=164)"
      ]
     },
     "execution_count": 10,
     "metadata": {},
     "output_type": "execute_result"
    }
   ],
   "source": [
    "import time\n",
    "import pyautogui as pg\n",
    "time.sleep(5)\n",
    "pg.position()"
   ]
  },
  {
   "cell_type": "code",
   "execution_count": null,
   "id": "69263abf",
   "metadata": {},
   "outputs": [],
   "source": []
  },
  {
   "cell_type": "code",
   "execution_count": null,
   "id": "b6027e57",
   "metadata": {},
   "outputs": [],
   "source": []
  }
 ],
 "metadata": {
  "kernelspec": {
   "display_name": "Python 3 (ipykernel)",
   "language": "python",
   "name": "python3"
  },
  "language_info": {
   "codemirror_mode": {
    "name": "ipython",
    "version": 3
   },
   "file_extension": ".py",
   "mimetype": "text/x-python",
   "name": "python",
   "nbconvert_exporter": "python",
   "pygments_lexer": "ipython3",
   "version": "3.9.12"
  }
 },
 "nbformat": 4,
 "nbformat_minor": 5
}
